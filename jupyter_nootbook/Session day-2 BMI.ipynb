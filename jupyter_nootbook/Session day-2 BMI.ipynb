{
 "cells": [
  {
   "cell_type": "code",
   "execution_count": 1,
   "id": "0ac1f71b",
   "metadata": {},
   "outputs": [],
   "source": [
    "# body mass index (BMI)\n",
    "# input weight\n",
    "# BMI (Ask your self your height)\n",
    "# Weight\n",
    "# Calculate BMI\n",
    "# print BMI (My name is Awais, my BMI is)"
   ]
  },
  {
   "cell_type": "code",
   "execution_count": 2,
   "id": "8d0f9264",
   "metadata": {},
   "outputs": [],
   "source": [
    "# Weight in Kg/height in m and its square"
   ]
  },
  {
   "cell_type": "code",
   "execution_count": 3,
   "id": "ec3b3c6e",
   "metadata": {
    "scrolled": true
   },
   "outputs": [
    {
     "name": "stdout",
     "output_type": "stream",
     "text": [
      "what is your height?1.75\n"
     ]
    }
   ],
   "source": [
    "height = input(\"what is your height?\")"
   ]
  },
  {
   "cell_type": "code",
   "execution_count": 4,
   "id": "8dbef2e6",
   "metadata": {},
   "outputs": [],
   "source": [
    "height =float(height)"
   ]
  },
  {
   "cell_type": "code",
   "execution_count": 5,
   "id": "a29c43b1",
   "metadata": {
    "scrolled": true
   },
   "outputs": [
    {
     "name": "stdout",
     "output_type": "stream",
     "text": [
      "what is your weight?90\n"
     ]
    }
   ],
   "source": [
    "weight = input(\"what is your weight?\")"
   ]
  },
  {
   "cell_type": "code",
   "execution_count": 6,
   "id": "e15dd897",
   "metadata": {},
   "outputs": [],
   "source": [
    "weight = float(weight)"
   ]
  },
  {
   "cell_type": "code",
   "execution_count": 7,
   "id": "de380312",
   "metadata": {},
   "outputs": [
    {
     "name": "stdout",
     "output_type": "stream",
     "text": [
      "what is your name?Awais\n"
     ]
    }
   ],
   "source": [
    "name = input (\"what is your name?\")"
   ]
  },
  {
   "cell_type": "code",
   "execution_count": 8,
   "id": "e603bab3",
   "metadata": {},
   "outputs": [
    {
     "data": {
      "text/plain": [
       "29.387755102040817"
      ]
     },
     "execution_count": 8,
     "metadata": {},
     "output_type": "execute_result"
    }
   ],
   "source": [
    "BMI= weight/height**2\n",
    "BMI"
   ]
  },
  {
   "cell_type": "code",
   "execution_count": 11,
   "id": "2a7cb9a1",
   "metadata": {},
   "outputs": [
    {
     "name": "stdout",
     "output_type": "stream",
     "text": [
      "My name is Awais and my BMI is 29.387755102040817\n"
     ]
    }
   ],
   "source": [
    "print(\"My name is\", name, \"and my BMI is\", BMI)"
   ]
  },
  {
   "cell_type": "code",
   "execution_count": null,
   "id": "3ce66cfb",
   "metadata": {},
   "outputs": [],
   "source": []
  },
  {
   "cell_type": "code",
   "execution_count": null,
   "id": "ed236e92",
   "metadata": {},
   "outputs": [],
   "source": []
  }
 ],
 "metadata": {
  "kernelspec": {
   "display_name": "Python 3 (ipykernel)",
   "language": "python",
   "name": "python3"
  },
  "language_info": {
   "codemirror_mode": {
    "name": "ipython",
    "version": 3
   },
   "file_extension": ".py",
   "mimetype": "text/x-python",
   "name": "python",
   "nbconvert_exporter": "python",
   "pygments_lexer": "ipython3",
   "version": "3.9.7"
  }
 },
 "nbformat": 4,
 "nbformat_minor": 5
}
