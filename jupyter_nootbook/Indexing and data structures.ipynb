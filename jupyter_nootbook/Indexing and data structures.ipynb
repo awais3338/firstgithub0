{
 "cells": [
  {
   "cell_type": "markdown",
   "id": "6b73731d",
   "metadata": {},
   "source": [
    "# - Index"
   ]
  },
  {
   "cell_type": "code",
   "execution_count": 1,
   "id": "9cc37df1",
   "metadata": {},
   "outputs": [
    {
     "data": {
      "text/plain": [
       "'Samosa Pakora'"
      ]
     },
     "execution_count": 1,
     "metadata": {},
     "output_type": "execute_result"
    }
   ],
   "source": [
    "# Make a string\n",
    "a=\"Samosa Pakora\"\n",
    "a"
   ]
  },
  {
   "cell_type": "code",
   "execution_count": 2,
   "id": "cfa71059",
   "metadata": {},
   "outputs": [
    {
     "data": {
      "text/plain": [
       "'Samosa Pakora'"
      ]
     },
     "execution_count": 2,
     "metadata": {},
     "output_type": "execute_result"
    }
   ],
   "source": [
    "a"
   ]
  },
  {
   "cell_type": "code",
   "execution_count": 3,
   "id": "f7005822",
   "metadata": {},
   "outputs": [
    {
     "data": {
      "text/plain": [
       "'S'"
      ]
     },
     "execution_count": 3,
     "metadata": {},
     "output_type": "execute_result"
    }
   ],
   "source": [
    "a[0]"
   ]
  },
  {
   "cell_type": "code",
   "execution_count": 4,
   "id": "cee3c02f",
   "metadata": {},
   "outputs": [
    {
     "data": {
      "text/plain": [
       "'a'"
      ]
     },
     "execution_count": 4,
     "metadata": {},
     "output_type": "execute_result"
    }
   ],
   "source": [
    "a[1]"
   ]
  },
  {
   "cell_type": "code",
   "execution_count": 5,
   "id": "714a516d",
   "metadata": {},
   "outputs": [
    {
     "data": {
      "text/plain": [
       "'m'"
      ]
     },
     "execution_count": 5,
     "metadata": {},
     "output_type": "execute_result"
    }
   ],
   "source": [
    "a[2]"
   ]
  },
  {
   "cell_type": "code",
   "execution_count": 6,
   "id": "b249edc5",
   "metadata": {},
   "outputs": [
    {
     "data": {
      "text/plain": [
       "'o'"
      ]
     },
     "execution_count": 6,
     "metadata": {},
     "output_type": "execute_result"
    }
   ],
   "source": [
    "a[3]"
   ]
  },
  {
   "cell_type": "code",
   "execution_count": 7,
   "id": "a92ad2f5",
   "metadata": {},
   "outputs": [
    {
     "data": {
      "text/plain": [
       "'s'"
      ]
     },
     "execution_count": 7,
     "metadata": {},
     "output_type": "execute_result"
    }
   ],
   "source": [
    "a[4]"
   ]
  },
  {
   "cell_type": "code",
   "execution_count": 8,
   "id": "01b75d1d",
   "metadata": {},
   "outputs": [
    {
     "data": {
      "text/plain": [
       "'a'"
      ]
     },
     "execution_count": 8,
     "metadata": {},
     "output_type": "execute_result"
    }
   ],
   "source": [
    "a[5]"
   ]
  },
  {
   "cell_type": "code",
   "execution_count": 9,
   "id": "d7aba724",
   "metadata": {},
   "outputs": [
    {
     "data": {
      "text/plain": [
       "' '"
      ]
     },
     "execution_count": 9,
     "metadata": {},
     "output_type": "execute_result"
    }
   ],
   "source": [
    "a[6]"
   ]
  },
  {
   "cell_type": "code",
   "execution_count": 10,
   "id": "e54a912c",
   "metadata": {},
   "outputs": [
    {
     "data": {
      "text/plain": [
       "'P'"
      ]
     },
     "execution_count": 10,
     "metadata": {},
     "output_type": "execute_result"
    }
   ],
   "source": [
    "a[7]"
   ]
  },
  {
   "cell_type": "code",
   "execution_count": 11,
   "id": "d00b4266",
   "metadata": {},
   "outputs": [
    {
     "data": {
      "text/plain": [
       "'a'"
      ]
     },
     "execution_count": 11,
     "metadata": {},
     "output_type": "execute_result"
    }
   ],
   "source": [
    "a[8]"
   ]
  },
  {
   "cell_type": "code",
   "execution_count": 12,
   "id": "45ffd5e8",
   "metadata": {},
   "outputs": [
    {
     "data": {
      "text/plain": [
       "'k'"
      ]
     },
     "execution_count": 12,
     "metadata": {},
     "output_type": "execute_result"
    }
   ],
   "source": [
    "a[9]"
   ]
  },
  {
   "cell_type": "code",
   "execution_count": 13,
   "id": "0e02518f",
   "metadata": {},
   "outputs": [
    {
     "data": {
      "text/plain": [
       "'o'"
      ]
     },
     "execution_count": 13,
     "metadata": {},
     "output_type": "execute_result"
    }
   ],
   "source": [
    "a[10]"
   ]
  },
  {
   "cell_type": "code",
   "execution_count": 14,
   "id": "3474420c",
   "metadata": {},
   "outputs": [
    {
     "data": {
      "text/plain": [
       "'r'"
      ]
     },
     "execution_count": 14,
     "metadata": {},
     "output_type": "execute_result"
    }
   ],
   "source": [
    "a[11]"
   ]
  },
  {
   "cell_type": "code",
   "execution_count": 15,
   "id": "10cf3cdf",
   "metadata": {},
   "outputs": [
    {
     "data": {
      "text/plain": [
       "'a'"
      ]
     },
     "execution_count": 15,
     "metadata": {},
     "output_type": "execute_result"
    }
   ],
   "source": [
    "a[12]"
   ]
  },
  {
   "cell_type": "code",
   "execution_count": 16,
   "id": "352b3c63",
   "metadata": {
    "scrolled": true
   },
   "outputs": [
    {
     "data": {
      "text/plain": [
       "'Samosa'"
      ]
     },
     "execution_count": 16,
     "metadata": {},
     "output_type": "execute_result"
    }
   ],
   "source": [
    "a[0:6]\n",
    "# Last index is exclusive"
   ]
  },
  {
   "cell_type": "code",
   "execution_count": 17,
   "id": "5649a554",
   "metadata": {},
   "outputs": [
    {
     "data": {
      "text/plain": [
       "'Samosa Pakora'"
      ]
     },
     "execution_count": 17,
     "metadata": {},
     "output_type": "execute_result"
    }
   ],
   "source": [
    "a[0:13]"
   ]
  },
  {
   "cell_type": "code",
   "execution_count": 18,
   "id": "fb54383f",
   "metadata": {},
   "outputs": [
    {
     "data": {
      "text/plain": [
       "13"
      ]
     },
     "execution_count": 18,
     "metadata": {},
     "output_type": "execute_result"
    }
   ],
   "source": [
    "#lenght of indeces\n",
    "len(a)"
   ]
  },
  {
   "cell_type": "code",
   "execution_count": 19,
   "id": "762f09bf",
   "metadata": {},
   "outputs": [
    {
     "data": {
      "text/plain": [
       "'a'"
      ]
     },
     "execution_count": 19,
     "metadata": {},
     "output_type": "execute_result"
    }
   ],
   "source": [
    "a[-1]"
   ]
  },
  {
   "cell_type": "code",
   "execution_count": 20,
   "id": "4584b678",
   "metadata": {},
   "outputs": [
    {
     "data": {
      "text/plain": [
       "'r'"
      ]
     },
     "execution_count": 20,
     "metadata": {},
     "output_type": "execute_result"
    }
   ],
   "source": [
    "a[-2]"
   ]
  },
  {
   "cell_type": "code",
   "execution_count": 21,
   "id": "c4888b71",
   "metadata": {},
   "outputs": [
    {
     "data": {
      "text/plain": [
       "'o'"
      ]
     },
     "execution_count": 21,
     "metadata": {},
     "output_type": "execute_result"
    }
   ],
   "source": [
    "a[-3]"
   ]
  },
  {
   "cell_type": "code",
   "execution_count": 22,
   "id": "86e4f20c",
   "metadata": {},
   "outputs": [
    {
     "data": {
      "text/plain": [
       "'Pakora'"
      ]
     },
     "execution_count": 22,
     "metadata": {},
     "output_type": "execute_result"
    }
   ],
   "source": [
    "a[-6:13]"
   ]
  },
  {
   "cell_type": "code",
   "execution_count": 23,
   "id": "2b3f6ab1",
   "metadata": {},
   "outputs": [
    {
     "data": {
      "text/plain": [
       "'biryani'"
      ]
     },
     "execution_count": 23,
     "metadata": {},
     "output_type": "execute_result"
    }
   ],
   "source": [
    "food = \"biryani\"\n",
    "food"
   ]
  },
  {
   "cell_type": "markdown",
   "id": "883ab633",
   "metadata": {},
   "source": [
    "## String Methods"
   ]
  },
  {
   "cell_type": "code",
   "execution_count": 24,
   "id": "afb4d0e0",
   "metadata": {},
   "outputs": [
    {
     "data": {
      "text/plain": [
       "'biryani'"
      ]
     },
     "execution_count": 24,
     "metadata": {},
     "output_type": "execute_result"
    }
   ],
   "source": [
    "food"
   ]
  },
  {
   "cell_type": "code",
   "execution_count": 25,
   "id": "6e3fb21b",
   "metadata": {},
   "outputs": [
    {
     "data": {
      "text/plain": [
       "7"
      ]
     },
     "execution_count": 25,
     "metadata": {},
     "output_type": "execute_result"
    }
   ],
   "source": [
    "len(food)"
   ]
  },
  {
   "cell_type": "code",
   "execution_count": 26,
   "id": "46c41870",
   "metadata": {
    "scrolled": true
   },
   "outputs": [
    {
     "data": {
      "text/plain": [
       "'Biryani'"
      ]
     },
     "execution_count": 26,
     "metadata": {},
     "output_type": "execute_result"
    }
   ],
   "source": [
    "# Capitilize every element\n",
    "food.capitalize() \n",
    "#Tab after food."
   ]
  },
  {
   "cell_type": "code",
   "execution_count": 27,
   "id": "1c990e9b",
   "metadata": {},
   "outputs": [
    {
     "data": {
      "text/plain": [
       "'BIRYANI'"
      ]
     },
     "execution_count": 27,
     "metadata": {},
     "output_type": "execute_result"
    }
   ],
   "source": [
    "#uppercase leeters\n",
    "food.upper()"
   ]
  },
  {
   "cell_type": "code",
   "execution_count": 28,
   "id": "a25668ac",
   "metadata": {},
   "outputs": [
    {
     "data": {
      "text/plain": [
       "'biryani'"
      ]
     },
     "execution_count": 28,
     "metadata": {},
     "output_type": "execute_result"
    }
   ],
   "source": [
    "food.lower()"
   ]
  },
  {
   "cell_type": "code",
   "execution_count": 29,
   "id": "ea5cca02",
   "metadata": {},
   "outputs": [
    {
     "data": {
      "text/plain": [
       "'Shiryani'"
      ]
     },
     "execution_count": 29,
     "metadata": {},
     "output_type": "execute_result"
    }
   ],
   "source": [
    "#replace\n",
    "food.replace(\"b\", \"Sh\")"
   ]
  },
  {
   "cell_type": "code",
   "execution_count": 30,
   "id": "6bc1141c",
   "metadata": {},
   "outputs": [
    {
     "data": {
      "text/plain": [
       "'Dr. Muhammad Awais'"
      ]
     },
     "execution_count": 30,
     "metadata": {},
     "output_type": "execute_result"
    }
   ],
   "source": [
    "#counting a specific alphabet in a string\n",
    "name = \"Dr. Muhammad Awais\"\n",
    "name"
   ]
  },
  {
   "cell_type": "code",
   "execution_count": 31,
   "id": "5caddbb5",
   "metadata": {},
   "outputs": [
    {
     "data": {
      "text/plain": [
       "3"
      ]
     },
     "execution_count": 31,
     "metadata": {},
     "output_type": "execute_result"
    }
   ],
   "source": [
    "name.count(\"a\")"
   ]
  },
  {
   "cell_type": "markdown",
   "id": "94fe39a6",
   "metadata": {},
   "source": [
    "### - Finding an index number in string "
   ]
  },
  {
   "cell_type": "code",
   "execution_count": 32,
   "id": "6e01d834",
   "metadata": {},
   "outputs": [
    {
     "data": {
      "text/plain": [
       "'Dr. Muhammad Awais'"
      ]
     },
     "execution_count": 32,
     "metadata": {},
     "output_type": "execute_result"
    }
   ],
   "source": [
    "name = \"Dr. Muhammad Awais\"\n",
    "name"
   ]
  },
  {
   "cell_type": "code",
   "execution_count": 33,
   "id": "16e1b9f8",
   "metadata": {},
   "outputs": [
    {
     "data": {
      "text/plain": [
       "16"
      ]
     },
     "execution_count": 33,
     "metadata": {},
     "output_type": "execute_result"
    }
   ],
   "source": [
    "name.find(\"i\")"
   ]
  },
  {
   "cell_type": "code",
   "execution_count": 34,
   "id": "13b8fa7e",
   "metadata": {},
   "outputs": [],
   "source": [
    "### - How to split a string\n",
    "food = \"I love samosa, pakora, raita, biryani and karahi\""
   ]
  },
  {
   "cell_type": "code",
   "execution_count": 35,
   "id": "ca77cfa2",
   "metadata": {
    "scrolled": true
   },
   "outputs": [
    {
     "data": {
      "text/plain": [
       "['I love samosa', ' pakora', ' raita', ' biryani and karahi']"
      ]
     },
     "execution_count": 35,
     "metadata": {},
     "output_type": "execute_result"
    }
   ],
   "source": [
    "food.split(\",\")"
   ]
  },
  {
   "cell_type": "markdown",
   "id": "f90e34c3",
   "metadata": {},
   "source": [
    "# Basic Data Structure in Python\n",
    "\n",
    "**1- Tuple** \n",
    "\n",
    "**2- List** \n",
    "\n",
    "**3- Dictionaries**\n",
    "\n",
    "**4- Set**"
   ]
  },
  {
   "cell_type": "markdown",
   "id": "3ca9b1d7",
   "metadata": {},
   "source": [
    "## 1- Tuple\n",
    "- Ordered collection elements\n",
    "- Enclosed in () round braces/ paranthesis\n",
    "- Different kind of element can be stored\n",
    "- Once element are stored you can not change them (unmutatable)"
   ]
  },
  {
   "cell_type": "code",
   "execution_count": 38,
   "id": "932884a2",
   "metadata": {},
   "outputs": [
    {
     "data": {
      "text/plain": [
       "(1, 'python', True, 2.5)"
      ]
     },
     "execution_count": 38,
     "metadata": {},
     "output_type": "execute_result"
    }
   ],
   "source": [
    "tup1 = (1, \"python\", True, 2.5)\n",
    "tup1"
   ]
  },
  {
   "cell_type": "code",
   "execution_count": 37,
   "id": "a03b359c",
   "metadata": {},
   "outputs": [
    {
     "data": {
      "text/plain": [
       "tuple"
      ]
     },
     "execution_count": 37,
     "metadata": {},
     "output_type": "execute_result"
    }
   ],
   "source": [
    "# Type of a tuple\n",
    "type(tup1)"
   ]
  },
  {
   "cell_type": "markdown",
   "id": "6671388a",
   "metadata": {},
   "source": [
    "## - Indexing in tuple"
   ]
  },
  {
   "cell_type": "code",
   "execution_count": 40,
   "id": "002d3119",
   "metadata": {},
   "outputs": [
    {
     "data": {
      "text/plain": [
       "1"
      ]
     },
     "execution_count": 40,
     "metadata": {},
     "output_type": "execute_result"
    }
   ],
   "source": [
    "tup1[0]"
   ]
  },
  {
   "cell_type": "code",
   "execution_count": 41,
   "id": "1b1db885",
   "metadata": {},
   "outputs": [
    {
     "data": {
      "text/plain": [
       "'python'"
      ]
     },
     "execution_count": 41,
     "metadata": {},
     "output_type": "execute_result"
    }
   ],
   "source": [
    "tup1[1]"
   ]
  },
  {
   "cell_type": "code",
   "execution_count": 42,
   "id": "97c30e38",
   "metadata": {},
   "outputs": [
    {
     "data": {
      "text/plain": [
       "True"
      ]
     },
     "execution_count": 42,
     "metadata": {},
     "output_type": "execute_result"
    }
   ],
   "source": [
    "tup1[2]"
   ]
  },
  {
   "cell_type": "code",
   "execution_count": 43,
   "id": "a3d0277d",
   "metadata": {},
   "outputs": [
    {
     "data": {
      "text/plain": [
       "2.5"
      ]
     },
     "execution_count": 43,
     "metadata": {},
     "output_type": "execute_result"
    }
   ],
   "source": [
    "tup1[3]"
   ]
  },
  {
   "cell_type": "code",
   "execution_count": null,
   "id": "8ca424d9",
   "metadata": {},
   "outputs": [],
   "source": [
    "tup1[4]"
   ]
  },
  {
   "cell_type": "code",
   "execution_count": 44,
   "id": "64bb85c6",
   "metadata": {},
   "outputs": [
    {
     "data": {
      "text/plain": [
       "(1, 'python', True, 2.5)"
      ]
     },
     "execution_count": 44,
     "metadata": {},
     "output_type": "execute_result"
    }
   ],
   "source": [
    "tup1[0:4]"
   ]
  },
  {
   "cell_type": "code",
   "execution_count": 45,
   "id": "f702d371",
   "metadata": {},
   "outputs": [
    {
     "data": {
      "text/plain": [
       "(2, 'Awais', 3.5, False)"
      ]
     },
     "execution_count": 45,
     "metadata": {},
     "output_type": "execute_result"
    }
   ],
   "source": [
    "tup2 = 2, \"Awais\", 3.5, False\n",
    "tup2"
   ]
  },
  {
   "cell_type": "code",
   "execution_count": 46,
   "id": "b3d52290",
   "metadata": {},
   "outputs": [
    {
     "data": {
      "text/plain": [
       "(1, 'python', True, 2.5, 2, 'Awais', 3.5, False)"
      ]
     },
     "execution_count": 46,
     "metadata": {},
     "output_type": "execute_result"
    }
   ],
   "source": [
    "# Concatinate (to add two tuple or >2)\n",
    "tup1 + tup2"
   ]
  },
  {
   "cell_type": "code",
   "execution_count": 47,
   "id": "b0ca5ddf",
   "metadata": {},
   "outputs": [
    {
     "data": {
      "text/plain": [
       "(1, 'python', True, 2.5, 1, 'python', True, 2.5, 2, 'Awais', 3.5, False)"
      ]
     },
     "execution_count": 47,
     "metadata": {},
     "output_type": "execute_result"
    }
   ],
   "source": [
    "# Concatinate + repeat\n",
    "tup1*2 + tup2"
   ]
  },
  {
   "cell_type": "code",
   "execution_count": 48,
   "id": "240a3e46",
   "metadata": {},
   "outputs": [
    {
     "data": {
      "text/plain": [
       "(20, 30, 40, 50, 60, 70, 80)"
      ]
     },
     "execution_count": 48,
     "metadata": {},
     "output_type": "execute_result"
    }
   ],
   "source": [
    "tup3 = (20,30,40,50,60,70,80)\n",
    "tup3"
   ]
  },
  {
   "cell_type": "code",
   "execution_count": 49,
   "id": "db3c6f5d",
   "metadata": {},
   "outputs": [
    {
     "data": {
      "text/plain": [
       "20"
      ]
     },
     "execution_count": 49,
     "metadata": {},
     "output_type": "execute_result"
    }
   ],
   "source": [
    "#Minimum \n",
    "min(tup3)"
   ]
  },
  {
   "cell_type": "code",
   "execution_count": 51,
   "id": "ad231d1e",
   "metadata": {},
   "outputs": [
    {
     "data": {
      "text/plain": [
       "80"
      ]
     },
     "execution_count": 51,
     "metadata": {},
     "output_type": "execute_result"
    }
   ],
   "source": [
    "#Maximum\n",
    "max(tup3)"
   ]
  },
  {
   "cell_type": "markdown",
   "id": "30a04134",
   "metadata": {},
   "source": [
    "--- "
   ]
  },
  {
   "cell_type": "markdown",
   "id": "0b3ddfa3",
   "metadata": {},
   "source": [
    "## 2- List\n",
    "\n",
    "- Ordered to collection of elements\n",
    "- Enclosed in [ ] Square braces/bracket\n",
    "- Mutateable, you can change the value"
   ]
  },
  {
   "cell_type": "code",
   "execution_count": 108,
   "id": "982274cb",
   "metadata": {},
   "outputs": [
    {
     "data": {
      "text/plain": [
       "[2, 2, 'Awais', False]"
      ]
     },
     "execution_count": 108,
     "metadata": {},
     "output_type": "execute_result"
    }
   ],
   "source": [
    "list1 = [2,2, \"Awais\", False]\n",
    "list1"
   ]
  },
  {
   "cell_type": "code",
   "execution_count": 109,
   "id": "7f3a1b75",
   "metadata": {},
   "outputs": [
    {
     "data": {
      "text/plain": [
       "list"
      ]
     },
     "execution_count": 109,
     "metadata": {},
     "output_type": "execute_result"
    }
   ],
   "source": [
    "type(list1)"
   ]
  },
  {
   "cell_type": "code",
   "execution_count": 110,
   "id": "71bd6d4c",
   "metadata": {},
   "outputs": [
    {
     "data": {
      "text/plain": [
       "4"
      ]
     },
     "execution_count": 110,
     "metadata": {},
     "output_type": "execute_result"
    }
   ],
   "source": [
    "len(list1)"
   ]
  },
  {
   "cell_type": "code",
   "execution_count": 114,
   "id": "26eec8bb",
   "metadata": {},
   "outputs": [
    {
     "data": {
      "text/plain": [
       "2"
      ]
     },
     "execution_count": 114,
     "metadata": {},
     "output_type": "execute_result"
    }
   ],
   "source": [
    "list1[1]"
   ]
  },
  {
   "cell_type": "code",
   "execution_count": 115,
   "id": "d7e354ca",
   "metadata": {},
   "outputs": [
    {
     "data": {
      "text/plain": [
       "'Awais'"
      ]
     },
     "execution_count": 115,
     "metadata": {},
     "output_type": "execute_result"
    }
   ],
   "source": [
    "list1[2]"
   ]
  },
  {
   "cell_type": "code",
   "execution_count": 116,
   "id": "869441c2",
   "metadata": {},
   "outputs": [
    {
     "data": {
      "text/plain": [
       "[3, 5, 'Awais', 'Environment', 452, 53.6, False]"
      ]
     },
     "execution_count": 116,
     "metadata": {},
     "output_type": "execute_result"
    }
   ],
   "source": [
    "list2 = [3,5,\"Awais\", \"Environment\", 452, 53.6, False]\n",
    "list2"
   ]
  },
  {
   "cell_type": "code",
   "execution_count": 117,
   "id": "1e16d01d",
   "metadata": {},
   "outputs": [
    {
     "data": {
      "text/plain": [
       "[2, 2, 'Awais', False, 3, 5, 'Awais', 'Environment', 452, 53.6, False]"
      ]
     },
     "execution_count": 117,
     "metadata": {},
     "output_type": "execute_result"
    }
   ],
   "source": [
    "list1 + list2"
   ]
  },
  {
   "cell_type": "code",
   "execution_count": 118,
   "id": "c0e2daaa",
   "metadata": {},
   "outputs": [
    {
     "data": {
      "text/plain": [
       "[2, 2, 'Awais', False, 2, 2, 'Awais', False]"
      ]
     },
     "execution_count": 118,
     "metadata": {},
     "output_type": "execute_result"
    }
   ],
   "source": [
    "list1*2"
   ]
  },
  {
   "cell_type": "code",
   "execution_count": 119,
   "id": "563fcc79",
   "metadata": {},
   "outputs": [
    {
     "data": {
      "text/plain": [
       "[False, 'Awais', 2, 2]"
      ]
     },
     "execution_count": 119,
     "metadata": {},
     "output_type": "execute_result"
    }
   ],
   "source": [
    "list1.reverse()\n",
    "list1"
   ]
  },
  {
   "cell_type": "code",
   "execution_count": 123,
   "id": "bf008100",
   "metadata": {},
   "outputs": [
    {
     "data": {
      "text/plain": [
       "1"
      ]
     },
     "execution_count": 123,
     "metadata": {},
     "output_type": "execute_result"
    }
   ],
   "source": [
    "list1.count(False)"
   ]
  },
  {
   "cell_type": "code",
   "execution_count": 121,
   "id": "c7daae91",
   "metadata": {},
   "outputs": [
    {
     "data": {
      "text/plain": [
       "1"
      ]
     },
     "execution_count": 121,
     "metadata": {},
     "output_type": "execute_result"
    }
   ],
   "source": [
    "list1.count(\"Awais\")"
   ]
  },
  {
   "cell_type": "code",
   "execution_count": 122,
   "id": "5ac605f6",
   "metadata": {},
   "outputs": [
    {
     "data": {
      "text/plain": [
       "2"
      ]
     },
     "execution_count": 122,
     "metadata": {},
     "output_type": "execute_result"
    }
   ],
   "source": [
    "list1.count(2)"
   ]
  },
  {
   "cell_type": "code",
   "execution_count": 124,
   "id": "63ea125b",
   "metadata": {},
   "outputs": [
    {
     "data": {
      "text/plain": [
       "[8, 10, 18, 25, 37, 75, 4, 21, 90, 98]"
      ]
     },
     "execution_count": 124,
     "metadata": {},
     "output_type": "execute_result"
    }
   ],
   "source": [
    "list3 = [8, 10, 18, 25, 37, 75, 4, 21, 90, 98]\n",
    "list3"
   ]
  },
  {
   "cell_type": "code",
   "execution_count": 125,
   "id": "4e8ee7f5",
   "metadata": {},
   "outputs": [
    {
     "data": {
      "text/plain": [
       "10"
      ]
     },
     "execution_count": 125,
     "metadata": {},
     "output_type": "execute_result"
    }
   ],
   "source": [
    "len(list3)"
   ]
  },
  {
   "cell_type": "code",
   "execution_count": 127,
   "id": "cf0ebc4c",
   "metadata": {},
   "outputs": [
    {
     "data": {
      "text/plain": [
       "[4, 8, 10, 18, 21, 25, 37, 75, 90, 98]"
      ]
     },
     "execution_count": 127,
     "metadata": {},
     "output_type": "execute_result"
    }
   ],
   "source": [
    "#Sorting a list\n",
    "list3.sort()\n",
    "list3"
   ]
  },
  {
   "cell_type": "code",
   "execution_count": 128,
   "id": "8fc3892c",
   "metadata": {},
   "outputs": [
    {
     "data": {
      "text/plain": [
       "[4, 8, 10, 18, 21, 25, 37, 75, 90, 98, 4, 8, 10, 18, 21, 25, 37, 75, 90, 98]"
      ]
     },
     "execution_count": 128,
     "metadata": {},
     "output_type": "execute_result"
    }
   ],
   "source": [
    "list3*2"
   ]
  },
  {
   "cell_type": "code",
   "execution_count": 129,
   "id": "7727200c",
   "metadata": {},
   "outputs": [
    {
     "data": {
      "text/plain": [
       "[False,\n",
       " 'Awais',\n",
       " 2,\n",
       " 2,\n",
       " 3,\n",
       " 5,\n",
       " 'Awais',\n",
       " 'Environment',\n",
       " 452,\n",
       " 53.6,\n",
       " False,\n",
       " 4,\n",
       " 8,\n",
       " 10,\n",
       " 18,\n",
       " 21,\n",
       " 25,\n",
       " 37,\n",
       " 75,\n",
       " 90,\n",
       " 98]"
      ]
     },
     "execution_count": 129,
     "metadata": {},
     "output_type": "execute_result"
    }
   ],
   "source": [
    "list1 + list2 + list3"
   ]
  },
  {
   "cell_type": "markdown",
   "id": "9feaffa0",
   "metadata": {},
   "source": [
    "---"
   ]
  },
  {
   "cell_type": "markdown",
   "id": "f2ad62b6",
   "metadata": {},
   "source": [
    "# 3- Dictionaries\n",
    "\n",
    "- An unordered collection of elements\n",
    "- Key and Value\n",
    "- Curly braces or brackets { }\n",
    "- Mutateable/Change the values"
   ]
  },
  {
   "cell_type": "code",
   "execution_count": 130,
   "id": "a9bb48f7",
   "metadata": {},
   "outputs": [
    {
     "data": {
      "text/plain": [
       "{'Samosa': 30, 'Raita': 20, 'Pakora': 100, 'Salad': 50, 'Chicken Rolls': 30}"
      ]
     },
     "execution_count": 130,
     "metadata": {},
     "output_type": "execute_result"
    }
   ],
   "source": [
    "# Food and thier prices\n",
    "food1 = {\"Samosa\":30, \"Raita\": 20, \"Pakora\": 100, \"Salad\": 50, \"Chicken Rolls\": 30}\n",
    "food1"
   ]
  },
  {
   "cell_type": "code",
   "execution_count": 131,
   "id": "2ebf098e",
   "metadata": {},
   "outputs": [
    {
     "data": {
      "text/plain": [
       "dict"
      ]
     },
     "execution_count": 131,
     "metadata": {},
     "output_type": "execute_result"
    }
   ],
   "source": [
    "type(food1)"
   ]
  },
  {
   "cell_type": "code",
   "execution_count": 132,
   "id": "5f347348",
   "metadata": {},
   "outputs": [
    {
     "data": {
      "text/plain": [
       "dict_keys(['Samosa', 'Raita', 'Pakora', 'Salad', 'Chicken Rolls'])"
      ]
     },
     "execution_count": 132,
     "metadata": {},
     "output_type": "execute_result"
    }
   ],
   "source": [
    "# Extract data\n",
    "keys1 = food1.keys()\n",
    "keys1"
   ]
  },
  {
   "cell_type": "code",
   "execution_count": 133,
   "id": "6a53d86b",
   "metadata": {},
   "outputs": [
    {
     "data": {
      "text/plain": [
       "dict_values([30, 20, 100, 50, 30])"
      ]
     },
     "execution_count": 133,
     "metadata": {},
     "output_type": "execute_result"
    }
   ],
   "source": [
    "values1 = food1.values()\n",
    "values1"
   ]
  },
  {
   "cell_type": "code",
   "execution_count": 135,
   "id": "c0048647",
   "metadata": {},
   "outputs": [
    {
     "data": {
      "text/plain": [
       "{'Samosa': 30,\n",
       " 'Raita': 20,\n",
       " 'Pakora': 100,\n",
       " 'Salad': 50,\n",
       " 'Chicken Rolls': 30,\n",
       " 'Tikki': 10}"
      ]
     },
     "execution_count": 135,
     "metadata": {},
     "output_type": "execute_result"
    }
   ],
   "source": [
    "# Adding new element\n",
    "food1[\"Tikki\"]=10\n",
    "food1"
   ]
  },
  {
   "cell_type": "code",
   "execution_count": 137,
   "id": "144f8ec5",
   "metadata": {},
   "outputs": [
    {
     "data": {
      "text/plain": [
       "{'Samosa': 30,\n",
       " 'Raita': 20,\n",
       " 'Pakora': 100,\n",
       " 'Salad': 50,\n",
       " 'Chicken Rolls': 30,\n",
       " 'Tikki': 15}"
      ]
     },
     "execution_count": 137,
     "metadata": {},
     "output_type": "execute_result"
    }
   ],
   "source": [
    "# update the values\n",
    "food1[\"Tikki\"]= 15\n",
    "food1"
   ]
  },
  {
   "cell_type": "code",
   "execution_count": 139,
   "id": "d3830959",
   "metadata": {},
   "outputs": [
    {
     "data": {
      "text/plain": [
       "{'Dates': 50, 'Choclates': 200, 'Swayyan': 1000}"
      ]
     },
     "execution_count": 139,
     "metadata": {},
     "output_type": "execute_result"
    }
   ],
   "source": [
    "food2 = {\"Dates\": 50, \"Choclates\": 200, \"Swayyan\": 1000}\n",
    "food2"
   ]
  },
  {
   "cell_type": "code",
   "execution_count": 140,
   "id": "8523c5bf",
   "metadata": {},
   "outputs": [
    {
     "data": {
      "text/plain": [
       "{'Samosa': 30,\n",
       " 'Raita': 20,\n",
       " 'Pakora': 100,\n",
       " 'Salad': 50,\n",
       " 'Chicken Rolls': 30,\n",
       " 'Tikki': 15,\n",
       " 'Dates': 50,\n",
       " 'Choclates': 200,\n",
       " 'Swayyan': 1000}"
      ]
     },
     "execution_count": 140,
     "metadata": {},
     "output_type": "execute_result"
    }
   ],
   "source": [
    "# Concatinate\n",
    "food1.update(food2)\n",
    "food1"
   ]
  },
  {
   "cell_type": "code",
   "execution_count": null,
   "id": "c4c07074",
   "metadata": {},
   "outputs": [],
   "source": [
    "## 4- Set\n",
    "\n",
    "- Unordered and unindexed\n",
    "- Curly braces are used { }\n",
    "- No duplicates allowed"
   ]
  },
  {
   "cell_type": "code",
   "execution_count": 144,
   "id": "c786e72e",
   "metadata": {},
   "outputs": [
    {
     "data": {
      "text/plain": [
       "{2, 4.6, 'Awais', 'Pakistan', 'University'}"
      ]
     },
     "execution_count": 144,
     "metadata": {},
     "output_type": "execute_result"
    }
   ],
   "source": [
    "s1 = {2, 4.6, \"Awais\", \"University\", \"Pakistan\"}\n",
    "s1"
   ]
  },
  {
   "cell_type": "code",
   "execution_count": 145,
   "id": "05f40c1a",
   "metadata": {},
   "outputs": [
    {
     "data": {
      "text/plain": [
       "{2, 4.6, 'Awais', 'Pakistan', 'USA', 'University'}"
      ]
     },
     "execution_count": 145,
     "metadata": {},
     "output_type": "execute_result"
    }
   ],
   "source": [
    "s1.add(\"USA\")\n",
    "s1"
   ]
  },
  {
   "cell_type": "code",
   "execution_count": 159,
   "id": "290a809a",
   "metadata": {},
   "outputs": [
    {
     "data": {
      "text/plain": [
       "(2, 3.5, 'Awais,', 'Lahore')"
      ]
     },
     "execution_count": 159,
     "metadata": {},
     "output_type": "execute_result"
    }
   ],
   "source": [
    "s2 = 2, 3.5, \"Awais,\", \"Lahore\"\n",
    "s2"
   ]
  },
  {
   "cell_type": "code",
   "execution_count": 163,
   "id": "d290e30e",
   "metadata": {},
   "outputs": [
    {
     "data": {
      "text/plain": [
       "set()"
      ]
     },
     "execution_count": 163,
     "metadata": {},
     "output_type": "execute_result"
    }
   ],
   "source": [
    "s1.clear()\n",
    "s1"
   ]
  },
  {
   "cell_type": "code",
   "execution_count": 166,
   "id": "5d523215",
   "metadata": {},
   "outputs": [
    {
     "data": {
      "text/plain": [
       "set()"
      ]
     },
     "execution_count": 166,
     "metadata": {},
     "output_type": "execute_result"
    }
   ],
   "source": [
    "s1.difference(s2)\n",
    "s1"
   ]
  },
  {
   "cell_type": "code",
   "execution_count": 174,
   "id": "d4c56a11",
   "metadata": {
    "scrolled": true
   },
   "outputs": [
    {
     "data": {
      "text/plain": [
       "set()"
      ]
     },
     "execution_count": 174,
     "metadata": {},
     "output_type": "execute_result"
    }
   ],
   "source": [
    "s1.discard(\"University\")\n",
    "s1"
   ]
  }
 ],
 "metadata": {
  "kernelspec": {
   "display_name": "Python 3 (ipykernel)",
   "language": "python",
   "name": "python3"
  },
  "language_info": {
   "codemirror_mode": {
    "name": "ipython",
    "version": 3
   },
   "file_extension": ".py",
   "mimetype": "text/x-python",
   "name": "python",
   "nbconvert_exporter": "python",
   "pygments_lexer": "ipython3",
   "version": "3.9.7"
  }
 },
 "nbformat": 4,
 "nbformat_minor": 5
}
