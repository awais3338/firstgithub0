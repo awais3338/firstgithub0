{
 "cells": [
  {
   "cell_type": "markdown",
   "id": "9f57b4fb",
   "metadata": {},
   "source": [
    "**# Basics of Python** \n",
    "**1- My first Program**"
   ]
  },
  {
   "cell_type": "markdown",
   "id": "0979412b",
   "metadata": {},
   "source": [
    "print(2+3)\n",
    "print(\"Hello world\")\n",
    "print (\"We are learning Python with Awais\")"
   ]
  },
  {
   "cell_type": "markdown",
   "id": "d45676ed",
   "metadata": {},
   "source": [
    "**2- Operators**"
   ]
  },
  {
   "cell_type": "code",
   "execution_count": 1,
   "id": "14f92954",
   "metadata": {},
   "outputs": [
    {
     "name": "stdout",
     "output_type": "stream",
     "text": [
      "1\n",
      "3.0\n",
      "6\n",
      "1\n",
      "3\n",
      "8\n",
      "6.5\n"
     ]
    }
   ],
   "source": [
    "print (3-2)\n",
    "print (6/2)\n",
    "print (2*3)\n",
    "print (13%2)\n",
    "print (6//2)\n",
    "print (2**3)\n",
    "print (3**2/2*3/3+6-4)"
   ]
  },
  {
   "cell_type": "markdown",
   "id": "c6900bf4",
   "metadata": {},
   "source": [
    "**3- Strings**"
   ]
  },
  {
   "cell_type": "code",
   "execution_count": 2,
   "id": "e378b351",
   "metadata": {},
   "outputs": [
    {
     "name": "stdout",
     "output_type": "stream",
     "text": [
      "Hello world\n",
      "We are learning Python with Awais\n",
      "test for single quotes\n",
      "test for double quotes\n",
      "test for triple quotes\n",
      "what's up?\n"
     ]
    }
   ],
   "source": [
    "print(\"Hello world\")\n",
    "print (\"We are learning Python with Awais\")\n",
    "print('test for single quotes')\n",
    "print(\"test for double quotes\")\n",
    "print('''test for triple quotes''')\n",
    "print (\"what's up?\")"
   ]
  },
  {
   "cell_type": "markdown",
   "id": "1d82c58e",
   "metadata": {},
   "source": [
    "**4- Comments**"
   ]
  },
  {
   "cell_type": "code",
   "execution_count": 3,
   "id": "8116a903",
   "metadata": {},
   "outputs": [
    {
     "name": "stdout",
     "output_type": "stream",
     "text": [
      "how are you?\n",
      "we are learning python with Awais\n",
      "8\n"
     ]
    }
   ],
   "source": [
    "print(\"how are you?\")                         #press these to comment out (Ctrl+/)\n",
    "print (\"we are learning python with Awais\")   #print a string\n",
    "print(2+6)                                    #print operators function with numbers"
   ]
  },
  {
   "cell_type": "markdown",
   "id": "c82d1e81",
   "metadata": {},
   "source": [
    "**5- Variables**\n",
    "*Variabales: objects containg specific values*"
   ]
  },
  {
   "cell_type": "code",
   "execution_count": 4,
   "id": "0bee7efa",
   "metadata": {},
   "outputs": [
    {
     "name": "stdout",
     "output_type": "stream",
     "text": [
      "5\n",
      "We are learing Python with Awais\n",
      "15\n",
      "<class 'int'>\n",
      "<class 'str'>\n",
      "<class 'int'>\n",
      "15\n"
     ]
    }
   ],
   "source": [
    "x=5                                           #numeric or integer variable\n",
    "print(x)\n",
    "y= \"We are learing Python with Awais\"         #string variable\n",
    "print (y)\n",
    "x=x+10 # or x=15\n",
    "print(x)\n",
    "\n",
    "#Types/class of variables*\n",
    "type(x)\n",
    "print(type(x))\n",
    "\n",
    "print (type(y))\n",
    "\n",
    "#print_type_class\n",
    "\n",
    "\n",
    "fruit_basket= 8\n",
    "fruit_basket=15\n",
    "# del fruit_basket\n",
    "print(type(fruit_basket))\n",
    "print(fruit_basket)"
   ]
  },
  {
   "cell_type": "markdown",
   "id": "7e341a7f",
   "metadata": {},
   "source": [
    "#*Rules to assign a variable*\n",
    "1- The variables should cantain letters, number or underscorres\n",
    "2- Do not start with numbers\n",
    "3- Spaces are not allowed\n",
    "4- Do not use keywords used in functions (break, mean,media,test etc) plz see google for keywords in Python\n",
    "5- Short and descriptive\n",
    "6- Case senstivity (Lowercase, uppercase) lower case letters shoild be used\n"
   ]
  },
  {
   "cell_type": "markdown",
   "id": "3d3acd31",
   "metadata": {},
   "source": [
    "**6- Input variables**"
   ]
  },
  {
   "cell_type": "code",
   "execution_count": null,
   "id": "97e0d9c0",
   "metadata": {},
   "outputs": [
    {
     "name": "stdout",
     "output_type": "stream",
     "text": [
      "mangoes\n"
     ]
    }
   ],
   "source": [
    "fruit_basket=\"mangoes\"\n",
    "print(fruit_basket)\n",
    "\n",
    "fruit_basket=input(\"which is your favourite fruit? \")\n",
    "print(fruit_basket)\n",
    "\n",
    "#Input function of 2nd stage\n",
    "name=input(\"what is your name? \")\n",
    "greeting=\"Hello\"\n",
    "print(greeting, name)\n",
    "\n",
    "#Another way of stage 2 input function\n",
    "name=input(\"What is your name?\")\n",
    "print(\"hello\", name)\n",
    "\n",
    "#3rd stage input function\n",
    "name+ input(\"what is your name? \")\n",
    "age=input(\"how old are you? \")\n",
    "greeting= \"hello\"\n",
    "\n",
    "print(greeting,name, \"you are still young\")"
   ]
  },
  {
   "cell_type": "markdown",
   "id": "73716cab",
   "metadata": {},
   "source": [
    "**7- Conditional Logics**\n",
    "*logical operators are either \"true or false\" or \"yes or no\" or \"0 or 1\"*\n",
    "*equal to                      ==*\n",
    "*not equal to                  !=*\n",
    "*less than                     <*\n",
    "*greater than                  >*\n",
    "*less than and equal to        <=*\n",
    "*greatar than and equal to     >=*"
   ]
  },
  {
   "cell_type": "code",
   "execution_count": null,
   "id": "788570dd",
   "metadata": {},
   "outputs": [],
   "source": [
    "#is 4 equal to 4?\n",
    "print(4==4)\n",
    "print(4!=4)\n",
    "print(4>3)\n",
    "print(3>6)\n",
    "\n",
    "#application of logical operators\n",
    "Awais_age=4\n",
    "minimum_age_at_school=5\n",
    "print(Awais_age==minimum_age_at_school)\n",
    "\n",
    "#input function and logicals operator\n",
    "age_at_school=5\n",
    "Awais_age=input(\"how old is Awais? \") #input function\n",
    "Awais_age= int (Awais_age)\n",
    "print(type(Awais_age))\n",
    "print(Awais_age==age_at_school) #logical operator"
   ]
  },
  {
   "cell_type": "markdown",
   "id": "63a0af55",
   "metadata": {},
   "source": [
    "**08- Types of Conversion**\n",
    "*implicit type conversion*\n",
    "*x=10      >  intege*\n",
    "*y=10.2    >  float*\n",
    "*z=\"Hello\" >  string*"
   ]
  },
  {
   "cell_type": "code",
   "execution_count": null,
   "id": "2890876a",
   "metadata": {},
   "outputs": [],
   "source": [
    "x= x*y\n",
    "print(x, \"type of x is:\", type(x))\n",
    "print(type(x))\n",
    "print(type(y))\n",
    "print(type(z))\n",
    "\n",
    "#explicit type conversion\n",
    "age=input(\"what is your age?\")\n",
    "age=int(age)\n",
    "print(age, type(int(age)))\n",
    "\n",
    "name=input(\"what is your name?\")\n",
    "print(name, type((name)))"
   ]
  },
  {
   "cell_type": "markdown",
   "id": "e57f2f34",
   "metadata": {},
   "source": [
    "**09- If, else & elif**"
   ]
  },
  {
   "cell_type": "code",
   "execution_count": null,
   "id": "53771520",
   "metadata": {},
   "outputs": [],
   "source": [
    "Hammad_age=5\n",
    "required_age_at_school=5\n",
    "question: can hammad go to school?\n",
    "\n",
    "if Hammad_age==required_age_at_school:\n",
    "     print(\"Hammad can join the school\")\n",
    "else:\n",
    "     print(\"Hammad can not go to school\")\n",
    "\n",
    "\n",
    " Hammad_age=4\n",
    " required_age_at_school=5\n",
    " question: can hammad go to school?\n",
    "\n",
    " if Hammad_age==required_age_at_school:\n",
    "     print(\"Hammad can join the school\")\n",
    " else:\n",
    "     print(\"Hammad can not go to school\")\n",
    "\n",
    "\n",
    "Hammad_age=10\n",
    "required_age_at_school=5\n",
    "question: can hammad go to school?\n",
    "\n",
    "if Hammad_age==required_age_at_school:\n",
    "    print(\"Hammad can join the school\")\n",
    "elif Hammad_age> required_age_at_school:\n",
    "    print(\"Hammad should join higher secondary school\")\n",
    "else:\n",
    "    print(\"Hammad can not go to school\")"
   ]
  },
  {
   "cell_type": "markdown",
   "id": "915e84b0",
   "metadata": {},
   "source": [
    "**10- functions**"
   ]
  },
  {
   "cell_type": "code",
   "execution_count": null,
   "id": "7f1992fd",
   "metadata": {},
   "outputs": [],
   "source": [
    "#1\n",
    " def print_awais():\n",
    "     print(\"we are learning with Awais\")\n",
    "     print(\"we are learning with Awais\")\n",
    "     print(\"we are learning with Awais\")\n",
    "\n",
    "\n",
    " print_awais()\n",
    "\n",
    "#2\n",
    " def print_awais():\n",
    "     text=\"we are learning with Awais\"\n",
    "     print(text)\n",
    "     print(text)\n",
    "     print(text)\n",
    "\n",
    " print_awais()\n",
    "\n",
    "#3\n",
    " def print_awais(text):\n",
    "     print(text)\n",
    "     print(text)\n",
    "     print(text)\n",
    "\n",
    " print_awais(\"we are learning with Awais\")\n",
    "\n",
    "## defining a function with if, elif and else statements\n",
    "\n",
    "#1\n",
    " def school_calculator(age, text):\n",
    "     if age==5:\n",
    "         print(\"Hammad can join the school\")\n",
    "     elif age>5:\n",
    "         print(\"Hammad should go to higher school\")\n",
    "     else:\n",
    "         print (\"Hammad is still a baby\")\n",
    "\n",
    " school_calculator(5, \"Hammad\")\n",
    "#2\n",
    " def school_calculator(age, text):\n",
    "     if age==5:\n",
    "         print(\"Hammad can join the school\")\n",
    "     elif age>5:\n",
    "         print(\"Hammad should go to higher school\")\n",
    "     else:\n",
    "         print (\"Hammad is still a baby\")\n",
    "\n",
    " school_calculator(2, \"Hammad\")\n",
    "#3\n",
    " def school_calculator(age, text):\n",
    "     if age==5:\n",
    "         print(\"Hammad can join the school\")\n",
    "     elif age>5:\n",
    "         print(\"Hammad should go to higher school\")\n",
    "     else:\n",
    "         print (\"Hammad is still a baby\")\n",
    "\n",
    " school_calculator(12, \"Hammad\")\n",
    "\n",
    "\n",
    "#4\n",
    " def school_calculator(age):\n",
    "     if age==5:\n",
    "         print(\"Hammad can join the school\")\n",
    "     elif age>5:\n",
    "         print(\"Hammad should go to higher school\")\n",
    "     else:\n",
    "         print (\"Hammad is still a baby\")\n",
    "\n",
    " school_calculator(5)\n",
    "\n",
    "#5\n",
    " def school_calculator(age):\n",
    "     if age==5:\n",
    "         print(\"Hammad can join the school\")\n",
    "     elif age>5:\n",
    "         print(\"Hammad should go to higher school\")\n",
    "     else:\n",
    "         print (\"Hammad is still a baby\")\n",
    "\n",
    " school_calculator(2)\n",
    "\n",
    "# 6\n",
    " def school_calculator(age):\n",
    "     if age==5:\n",
    "         print(\"Hammad can join the school\")\n",
    "     elif age>5:\n",
    "         print(\"Hammad should go to higher school\")\n",
    "     else:\n",
    "         print (\"Hammad is still a baby\")\n",
    "\n",
    " school_calculator(12)\n",
    "\n",
    "# definin a function of future\n",
    "\n",
    "def future_age(age):\n",
    "    new_age=age+20\n",
    "    return new_age\n",
    "\n",
    "future_predicted_age=future_age(18)\n",
    "print(future_predicted_age)\n"
   ]
  },
  {
   "cell_type": "markdown",
   "id": "a1d7d4a2",
   "metadata": {},
   "source": [
    "**11- Loops**\n",
    "*while and for loops*"
   ]
  },
  {
   "cell_type": "code",
   "execution_count": null,
   "id": "dddcd92c",
   "metadata": {},
   "outputs": [],
   "source": [
    "#while loops\n",
    "\n",
    "#1\n",
    "x=0\n",
    "while (x<5):\n",
    "    print(x)\n",
    "    x=x+1\n",
    "\n",
    "#2\n",
    "\n",
    "x=0\n",
    "while (x<=5):\n",
    "    print(x)\n",
    "    x=x+1\n",
    "\n",
    "#for loop\n",
    "\n",
    "for x in range (5,15):\n",
    "    print(x)\n",
    "\n",
    "# array\n",
    "days= [\"Mon,\" \"Tue,\" \"Wen,\" \"Thu,\" \"Fri,\" \"Sat,\" \"Sun\"]\n",
    "\n",
    "for d in days:\n",
    "   if(d==\"Fri\"):break #loop stops\n",
    "   if (d==\"Fri\"):continue\n",
    "   print(d)"
   ]
  },
  {
   "cell_type": "markdown",
   "id": "02b9b7a6",
   "metadata": {},
   "source": [
    "**12- Import Libraries**"
   ]
  },
  {
   "cell_type": "code",
   "execution_count": null,
   "id": "38e96692",
   "metadata": {},
   "outputs": [],
   "source": [
    "# if you want to print the value of pi\n",
    "\n",
    "import math\n",
    "print(\"The value of pi is\", math.pi)\n",
    "\n",
    "import statistics\n",
    "\n",
    "x=[150,250,350,450]\n",
    "print(statistics.mean(x))"
   ]
  },
  {
   "cell_type": "markdown",
   "id": "f1e071b3",
   "metadata": {},
   "source": [
    "**13- Trouble Shooting**"
   ]
  },
  {
   "cell_type": "code",
   "execution_count": null,
   "id": "9020fa00",
   "metadata": {},
   "outputs": [],
   "source": [
    "# print(we are learning python with Awais) #SyntaxError: invalid syntax. Perhaps you forgot a comma?\n",
    "# print(\"we are learning python with Awais\")\n",
    "\n",
    "# print(25/0)# runtime error\n",
    "\n",
    "name= Awais\n",
    "print(\"Hello\", name) #NameError: name 'Awais' is not defined\n",
    "\n",
    "name= \"Awais\"\n",
    "print(\"Hello\", name)"
   ]
  }
 ],
 "metadata": {
  "kernelspec": {
   "display_name": "Python 3 (ipykernel)",
   "language": "python",
   "name": "python3"
  },
  "language_info": {
   "codemirror_mode": {
    "name": "ipython",
    "version": 3
   },
   "file_extension": ".py",
   "mimetype": "text/x-python",
   "name": "python",
   "nbconvert_exporter": "python",
   "pygments_lexer": "ipython3",
   "version": "3.9.7"
  }
 },
 "nbformat": 4,
 "nbformat_minor": 5
}
